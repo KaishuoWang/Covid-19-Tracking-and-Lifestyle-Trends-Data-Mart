{
  "nbformat": 4,
  "nbformat_minor": 0,
  "metadata": {
    "colab": {
      "name": "phase4.ipynb",
      "provenance": [],
      "collapsed_sections": []
    },
    "kernelspec": {
      "display_name": "Python 3",
      "language": "python",
      "name": "python3"
    },
    "language_info": {
      "codemirror_mode": {
        "name": "ipython",
        "version": 3
      },
      "file_extension": ".py",
      "mimetype": "text/x-python",
      "name": "python",
      "nbconvert_exporter": "python",
      "pygments_lexer": "ipython3",
      "version": "3.8.5"
    }
  },
  "cells": [
    {
      "cell_type": "code",
      "metadata": {
        "id": "FwVOBQBXpgLO",
        "colab": {
          "base_uri": "https://localhost:8080/"
        },
        "outputId": "61d9be79-8b4c-4ddc-8ccb-f229ad5d016c"
      },
      "source": [
        "from typing import Counter\n",
        "import psycopg2\n",
        "from sklearn.impute import SimpleImputer\n",
        "import matplotlib.pyplot as plt\n",
        "import pandas as pd\n",
        "import numpy as np\n",
        "from sklearn.preprocessing import MinMaxScaler\n",
        "from sklearn.datasets import make_classification\n",
        "from sklearn.model_selection import train_test_split\n",
        "from imblearn.under_sampling import NearMiss\n",
        "from sklearn.model_selection import StratifiedShuffleSplit\n",
        "from sklearn.tree import DecisionTreeClassifier\n",
        "from sklearn.metrics import recall_score, precision_score\n",
        "from sklearn.ensemble import RandomForestClassifier\n",
        "from sklearn.ensemble import GradientBoostingClassifier\n",
        "from sklearn.feature_selection import SelectKBest\n",
        "from sklearn.feature_selection import chi2\n",
        "from sklearn.metrics import accuracy_score\n",
        "import time"
      ],
      "execution_count": 1,
      "outputs": [
        {
          "output_type": "stream",
          "text": [
            "/usr/local/lib/python3.7/dist-packages/psycopg2/__init__.py:144: UserWarning: The psycopg2 wheel package will be renamed from release 2.8; in order to keep installing from binary please use \"pip install psycopg2-binary\" instead. For details see: <http://initd.org/psycopg/docs/install.html#binary-install-from-pypi>.\n",
            "  \"\"\")\n",
            "/usr/local/lib/python3.7/dist-packages/sklearn/externals/six.py:31: FutureWarning: The module is deprecated in version 0.21 and will be removed in version 0.23 since we've dropped support for Python 2.7. Please rely on the official version of six (https://pypi.org/project/six/).\n",
            "  \"(https://pypi.org/project/six/).\", FutureWarning)\n",
            "/usr/local/lib/python3.7/dist-packages/sklearn/utils/deprecation.py:144: FutureWarning: The sklearn.neighbors.base module is  deprecated in version 0.22 and will be removed in version 0.24. The corresponding classes / functions should instead be imported from sklearn.neighbors. Anything that cannot be imported from sklearn.neighbors is now part of the private API.\n",
            "  warnings.warn(message, FutureWarning)\n"
          ],
          "name": "stderr"
        }
      ]
    },
    {
      "cell_type": "code",
      "metadata": {
        "id": "58V43KdAoIDt"
      },
      "source": [
        "#get all data from database\n",
        "def get_data():\n",
        "    server = 'www.eecs.uottawa.ca'\n",
        "    userName = 'kwang126'\n",
        "    myPassword = 'fojVu2-qexpep-bozwyt'\n",
        "    group = 'group_10'\n",
        "    myPort = 15432\n",
        "        \n",
        "    connection = psycopg2.connect(dbname = group, user = userName, password = myPassword, host = server, port = myPort)\n",
        "    cur = connection.cursor()\n",
        "\n",
        "    data = []\n",
        "    cur.execute('select retail_and_recreation, grocery, parks, transit_stations, workplaces, age_group, \\\n",
        "                aquisition_group, outbreak_related from fact_table F, patient_dimension P, mobility_dimension M\\\n",
        "                where F.mobility_key = M.mobility_key and F.patient_key = P.patient_key')\n",
        "    data = cur.fetchall()\n",
        "    cur.close()\n",
        "    connection.close()\n",
        "\n",
        "    data_df = pd.DataFrame(data, columns=['retail_and_recreation', 'grocery', 'parks', 'transit_station', 'workplaces', 'age_group',\n",
        "                                        'acquisition_group', 'outbreak_related'])\n",
        "    data_df['age_group'] = data_df['age_group'].astype('category')\n",
        "    data_df['acquisition_group'] = data_df['acquisition_group'].astype('category')\n",
        "    data_df['outbreak_related'] = data_df['outbreak_related'].astype('category')\n",
        "    data_df.fillna(value=np.nan)\n",
        "    return data_df\n",
        "\n",
        "#plot a histogram and save it\n",
        "def plot_histogram(data):\n",
        "    tf_counter = Counter(data['outbreak_related'])\n",
        "\n",
        "    x_lable = ['outbreak related', 'not related']\n",
        "    y = [tf_counter[1], tf_counter[0]]\n",
        "\n",
        "    total_width, n = 0.5, 2  \n",
        "    width = total_width / n \n",
        "\n",
        "    x = [0,1]    \n",
        "    a = plt.bar(x, y, width=width, tick_label = x_lable)\n",
        "\n",
        "    for rect in a:\n",
        "        height = rect.get_height()\n",
        "        plt.text((rect.get_x()+rect.get_width()/2)-0.1, 1.03*height, '%s' % float(height))\n",
        "\n",
        "    plt.ylabel('num_cases')\n",
        "    plt.legend()\n",
        "    plt.show()\n",
        "    plt.savefig('./histogram.png')\n",
        "\n",
        "#handle the numeric missing value\n",
        "def numeric_missing_value(data):\n",
        "    labels = ['retail_and_recreation', 'grocery', 'parks', 'transit_station', 'workplaces']\n",
        "    imp = SimpleImputer(missing_values=np.nan, strategy='mean')\n",
        "    for each in labels:\n",
        "        part = data[each].values.reshape(-1,1)\n",
        "        clean_data = imp.fit_transform(part)\n",
        "        data[each] = clean_data\n",
        "    return data\n",
        "\n",
        "#normalise numeric attributes\n",
        "def normalisation(data):\n",
        "    labels = ['retail_and_recreation', 'grocery', 'parks', 'transit_station', 'workplaces']\n",
        "    scaler = MinMaxScaler()\n",
        "    for each in labels:\n",
        "        part = data[each].values.reshape(-1,1)\n",
        "        scaler.fit(part)\n",
        "        \n",
        "        nomalised = scaler.transform(part)\n",
        "        data[each] = nomalised\n",
        "    return data\n",
        "\n",
        "#one-hot encoding\n",
        "def handle_categorical_attributes(data):\n",
        "    new_df = pd.get_dummies(data, prefix=['age_group', 'acquisition_group'])\n",
        "    new_df['retail_and_recreation'] = data['retail_and_recreation']\n",
        "    new_df['grocery'] = data['grocery']\n",
        "    new_df['parks'] = data['parks']\n",
        "    new_df['transit_station'] = data['transit_station']\n",
        "    new_df['workplaces'] = data['workplaces']\n",
        "    return new_df\n",
        "\n",
        "data = get_data()\n"
      ],
      "execution_count": 2,
      "outputs": []
    },
    {
      "cell_type": "code",
      "metadata": {
        "colab": {
          "base_uri": "https://localhost:8080/",
          "height": 303
        },
        "id": "EfoRbcBhopmZ",
        "outputId": "71033316-2c23-42fe-e770-5020dc706cf4"
      },
      "source": [
        "#question 1\n",
        "plot_histogram(data)"
      ],
      "execution_count": 4,
      "outputs": [
        {
          "output_type": "stream",
          "text": [
            "No handles with labels found to put in legend.\n"
          ],
          "name": "stderr"
        },
        {
          "output_type": "display_data",
          "data": {
            "image/png": "[encoded data removed]",
            "text/plain": [
              "<Figure size 432x288 with 1 Axes>"
            ]
          },
          "metadata": {
            "tags": [],
            "needs_background": "light"
          }
        },
        {
          "output_type": "display_data",
          "data": {
            "text/plain": [
              "<Figure size 432x288 with 0 Axes>"
            ]
          },
          "metadata": {
            "tags": []
          }
        }
      ]
    },
    {
      "cell_type": "code",
      "metadata": {
        "colab": {
          "base_uri": "https://localhost:8080/"
        },
        "id": "2aS6qnFXovxg",
        "outputId": "32acc209-4bd7-4210-ec1e-5bc8e3325a36"
      },
      "source": [
        "#question 2\n",
        "clean_data = numeric_missing_value(data)\n",
        "\n",
        "normalised = normalisation(clean_data)\n",
        "\n",
        "print(Counter(normalised['outbreak_related']))\n",
        "y = normalised['outbreak_related'].astype(int).to_numpy()\n",
        "normalised.drop(columns=['outbreak_related'], inplace=True)\n",
        "\n",
        "one_hot_encoded = handle_categorical_attributes(normalised)"
      ],
      "execution_count": 5,
      "outputs": [
        {
          "output_type": "stream",
          "text": [
            "Counter({False: 91571, True: 18374})\n"
          ],
          "name": "stdout"
        }
      ]
    },
    {
      "cell_type": "code",
      "metadata": {
        "colab": {
          "base_uri": "https://localhost:8080/"
        },
        "id": "EC_1M_Vdo0Kr",
        "outputId": "b43586b5-16b4-4d46-a921-a427f2be1b39"
      },
      "source": [
        "#get values\n",
        "X = one_hot_encoded.to_numpy()\n",
        "\n",
        "#feature selection\n",
        "sel = SelectKBest(chi2, k=2)\n",
        "new_X = sel.fit_transform(X, y)\n",
        "\n",
        "#split to training and testing set\n",
        "sss = StratifiedShuffleSplit(n_splits=1, test_size=0.2, random_state=0)\n",
        "sss.get_n_splits(new_X, y)\n",
        "for train_index, test_index in sss.split(new_X, y):\n",
        "    X_train, X_test = X[train_index], X[test_index]\n",
        "    y_train, y_test = y[train_index], y[test_index]\n",
        "\n",
        "print('Training set brefore near missing {}'.format(Counter(y_train)))\n",
        "print('Testing set brefore near missing {}'.format(Counter(y_test)))\n",
        "\n",
        "#near miss algorithm\n",
        "nm = NearMiss()\n",
        "X_train_miss, y_train_miss = nm.fit_resample(X_train, y_train)\n",
        "\n",
        "print('Training set {}'.format(Counter(y_train_miss)))\n",
        "print('Testing set {}'.format(Counter(y_test)))"
      ],
      "execution_count": 6,
      "outputs": [
        {
          "output_type": "stream",
          "text": [
            "Training set brefore near missing Counter({0: 73257, 1: 14699})\n",
            "Testing set brefore near missing Counter({0: 18314, 1: 3675})\n"
          ],
          "name": "stdout"
        },
        {
          "output_type": "stream",
          "text": [
            "/usr/local/lib/python3.7/dist-packages/sklearn/utils/deprecation.py:87: FutureWarning: Function safe_indexing is deprecated; safe_indexing is deprecated in version 0.22 and will be removed in version 0.24.\n",
            "  warnings.warn(msg, category=FutureWarning)\n",
            "/usr/local/lib/python3.7/dist-packages/sklearn/utils/deprecation.py:87: FutureWarning: Function safe_indexing is deprecated; safe_indexing is deprecated in version 0.22 and will be removed in version 0.24.\n",
            "  warnings.warn(msg, category=FutureWarning)\n"
          ],
          "name": "stderr"
        },
        {
          "output_type": "stream",
          "text": [
            "Training set Counter({0: 14699, 1: 14699})\n",
            "Testing set Counter({0: 18314, 1: 3675})\n"
          ],
          "name": "stdout"
        },
        {
          "output_type": "stream",
          "text": [
            "/usr/local/lib/python3.7/dist-packages/sklearn/utils/deprecation.py:87: FutureWarning: Function safe_indexing is deprecated; safe_indexing is deprecated in version 0.22 and will be removed in version 0.24.\n",
            "  warnings.warn(msg, category=FutureWarning)\n"
          ],
          "name": "stderr"
        }
      ]
    },
    {
      "cell_type": "code",
      "metadata": {
        "colab": {
          "base_uri": "https://localhost:8080/"
        },
        "id": "29b-ubsXo6jD",
        "outputId": "83a1de2c-752c-4299-bc2b-2aff62fd7080"
      },
      "source": [
        "#show first 5 lines\n",
        "print(one_hot_encoded.head())\n",
        "#show attributes\n",
        "for col in one_hot_encoded.columns:\n",
        "    print(col)"
      ],
      "execution_count": 7,
      "outputs": [
        {
          "output_type": "stream",
          "text": [
            "   retail_and_recreation  ...  acquisition_group_UNSPECIFIED EPI LINK\n",
            "0               0.613208  ...                                       0\n",
            "1               0.613208  ...                                       0\n",
            "2               0.613208  ...                                       0\n",
            "3               0.613208  ...                                       0\n",
            "4               0.613208  ...                                       0\n",
            "\n",
            "[5 rows x 21 columns]\n",
            "retail_and_recreation\n",
            "grocery\n",
            "parks\n",
            "transit_station\n",
            "workplaces\n",
            "age_group_20s\n",
            "age_group_30s\n",
            "age_group_40s\n",
            "age_group_50s\n",
            "age_group_60s\n",
            "age_group_70s\n",
            "age_group_80s\n",
            "age_group_90+\n",
            "age_group_<20\n",
            "age_group_UNKNOWN\n",
            "acquisition_group_CC\n",
            "acquisition_group_MISSING INFORMATION\n",
            "acquisition_group_NO KNOWN EPI LINK\n",
            "acquisition_group_OB\n",
            "acquisition_group_TRAVEL\n",
            "acquisition_group_UNSPECIFIED EPI LINK\n"
          ],
          "name": "stdout"
        }
      ]
    },
    {
      "cell_type": "code",
      "metadata": {
        "colab": {
          "base_uri": "https://localhost:8080/"
        },
        "id": "rB3s1zSIsDl5",
        "outputId": "fea66cf0-1d6b-42a0-eea5-c2b3e9318ea1"
      },
      "source": [
        "#Decision tree\n",
        "start =time.perf_counter()\n",
        "dt = DecisionTreeClassifier(max_depth=2, criterion='entropy')\n",
        "dt.fit(X_train_miss, y_train_miss)\n",
        "end = time.perf_counter()\n",
        "\n",
        "# Now that our classifier is trained, it is time to test it with the testing data. Because our data is imbalanced, we should loom at precision and recall, rather than accuracy.\n",
        "y_pred = dt.predict(X_test)\n",
        "accuracy=accuracy_score(y_pred, y_test)*100\n",
        "recall = recall_score(y_pred, y_test) * 100\n",
        "precision = precision_score(y_pred, y_test) * 100\n",
        "print(\"accuracy of decision tree {:.2f} %\".format(accuracy))\n",
        "print(\"precision of Decision Tree {:.2f} %\".format(precision))\n",
        "print(\"Recall of Decision Tree {:.2f} %\".format(recall))\n",
        "print('Time to construct decision tree: %s Seconds'%(end-start))"
      ],
      "execution_count": 10,
      "outputs": [
        {
          "output_type": "stream",
          "text": [
            "accuracy of decision tree 96.04 %\n",
            "precision of Decision Tree 78.37 %\n",
            "Recall of Decision Tree 97.43 %\n",
            "Time to construct decision tree: 0.026642885000001115 Seconds\n"
          ],
          "name": "stdout"
        }
      ]
    },
    {
      "cell_type": "code",
      "metadata": {
        "colab": {
          "base_uri": "https://localhost:8080/"
        },
        "id": "MwKxr0n8th1t",
        "outputId": "037e5c0a-7415-4e6b-a1ed-a0d3b06a8d3c"
      },
      "source": [
        "#random forest\n",
        "start =time.perf_counter()\n",
        "clf = RandomForestClassifier(n_estimators=100,max_depth=1, \n",
        "                             random_state=0,min_samples_split=8)\n",
        "clf.fit(X_train_miss, y_train_miss)\n",
        "end = time.perf_counter()\n",
        "\n",
        "y_pred = clf.predict(X_test)\n",
        "accuracy=accuracy_score(y_pred, y_test)*100\n",
        "recall = recall_score(y_pred, y_test) * 100\n",
        "precision = precision_score(y_pred, y_test) * 100\n",
        "print(\"accuracy of random forest {:.2f} %\".format(accuracy))\n",
        "print(\"precision of random forest {:.2f} %\".format(precision))\n",
        "print(\"Recall of random forest {:.2f} %\".format(recall))\n",
        "print('Time to construct random forest: %s Seconds'%(end-start))"
      ],
      "execution_count": null,
      "outputs": [
        {
          "output_type": "stream",
          "text": [
            "accuracy of random forest 89.35 %\n",
            "precision of random forest 79.10 %\n",
            "Recall of random forest 64.89 %\n",
            "Time to construct random forest: 0.29641401800017775 Seconds\n"
          ],
          "name": "stdout"
        }
      ]
    },
    {
      "cell_type": "code",
      "metadata": {
        "colab": {
          "base_uri": "https://localhost:8080/"
        },
        "id": "7K4yE2hWurqt",
        "outputId": "76fae917-a8b1-4279-a4c0-6f0748628997"
      },
      "source": [
        "#Gradient Boosting\n",
        "start =time.perf_counter()\n",
        "gb = GradientBoostingClassifier(n_estimators=1, learning_rate=1.0, max_depth=1, random_state=0)\n",
        "gb.fit(X_train_miss, y_train_miss)\n",
        "end = time.perf_counter()\n",
        "\n",
        "y_pred = gb.predict(X_test)\n",
        "accuracy=accuracy_score(y_pred, y_test)*100\n",
        "recall = recall_score(y_pred, y_test) * 100\n",
        "precision = precision_score(y_pred, y_test) * 100\n",
        "print(\"accuracy of gradient boosting {:.2f} %\".format(accuracy))\n",
        "print(\"precision of gradient boosting {:.2f} %\".format(precision))\n",
        "print(\"Recall of gradient boosting {:.2f} %\".format(recall))\n",
        "print('Time to construct gradient boosting: %s Seconds'%(end-start))"
      ],
      "execution_count": null,
      "outputs": [
        {
          "output_type": "stream",
          "text": [
            "accuracy of gradient boosting 96.04 %\n",
            "precision of gradient boosting 78.37 %\n",
            "Recall of gradient boosting 97.43 %\n",
            "Time to construct gradient boosting: 0.011141214999952354 Seconds\n"
          ],
          "name": "stdout"
        }
      ]
    },
    {
      "cell_type": "code",
      "metadata": {
        "id": "O5ygvzGtOypw"
      },
      "source": [],
      "execution_count": null,
      "outputs": []
    }
  ]
}